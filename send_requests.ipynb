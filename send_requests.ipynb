{
 "cells": [
  {
   "cell_type": "code",
   "execution_count": null,
   "metadata": {
    "vscode": {
     "languageId": "plaintext"
    }
   },
   "outputs": [],
   "source": [
    "import requests\n",
    "\n",
    "# URL of your local Flask app\n",
    "url = \"http://24.199.74.10:5000/todo\"\n",
    "\n",
    "# Example of a POST request to create a to-do item\n",
    "def create_todo():\n",
    "    todo_data = {\n",
    "        \"Title\": \"Buy Groceries\",\n",
    "        \"Description\": \"Need to buy groceries for dinner\",\n",
    "        \"DueDate\": \"2023-10-30\",\n",
    "        \"UserId\": 1\n",
    "    }\n",
    "    \n",
    "    response = requests.post(url, json=todo_data)\n",
    "    \n",
    "    # Print response from the server\n",
    "    print(\"Status Code:\", response.status_code)\n",
    "    print(\"Response JSON:\", response.json())\n",
    "\n",
    "# Example of a GET request to retrieve the to-do list\n",
    "def list_todos():\n",
    "    response = requests.get(url)\n",
    "    \n",
    "    # Print response from the server\n",
    "    print(\"Status Code:\", response.status_code)\n",
    "    print(\"Response JSON:\", response.json())\n",
    "\n",
    "# Example of a PUT request to update an existing to-do item\n",
    "def update_todo(item_id):\n",
    "    todo_data = {\n",
    "        \"Title\": \"Buy Vegetables\",\n",
    "        \"Description\": \"Need to buy vegetables instead\",\n",
    "        \"DueDate\": \"2023-10-31\"\n",
    "    }\n",
    "    \n",
    "    response = requests.put(f\"{url}/{item_id}\", json=todo_data)\n",
    "    \n",
    "    # Print response from the server\n",
    "    print(\"Status Code:\", response.status_code)\n",
    "    print(\"Response JSON:\", response.json())\n",
    "\n",
    "# Example of a DELETE request to delete a to-do item\n",
    "def delete_todo(item_id):\n",
    "    response = requests.delete(f\"{url}/{item_id}\")\n",
    "    \n",
    "    # Print response from the server\n",
    "    print(\"Status Code:\", response.status_code)\n",
    "    print(\"Response JSON:\", response.json())\n",
    "\n",
    "# Test the functions\n",
    "if __name__ == \"__main__\":\n",
    "    # Uncomment one function at a time to test\n",
    "\n",
    "    # create_todo()  # Create a new to-do item\n",
    "    # list_todos()   # List all to-do items\n",
    "    # update_todo(1) # Update the to-do item with ID 1\n",
    "    # delete_todo(1) # Delete the to-do item with ID 1\n"
   ]
  }
 ],
 "metadata": {
  "language_info": {
   "name": "python"
  }
 },
 "nbformat": 4,
 "nbformat_minor": 2
}
